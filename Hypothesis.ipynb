{
 "cells": [
  {
   "cell_type": "code",
   "execution_count": 1,
   "id": "de6fb284-e0af-45f8-963d-fa43712efdb4",
   "metadata": {},
   "outputs": [
    {
     "name": "stdout",
     "output_type": "stream",
     "text": [
      "Theoretical Mean Weekly Cost: 4000\n"
     ]
    }
   ],
   "source": [
    "X = 600  # mean number of units produced in a week\n",
    "theoretical_mean_weekly_cost = 1000 + 5 * X\n",
    "print(\"Theoretical Mean Weekly Cost:\", theoretical_mean_weekly_cost)"
   ]
  },
  {
   "cell_type": "code",
   "execution_count": 3,
   "id": "21d4e377-1e8d-4376-bc78-2f3dc207aeab",
   "metadata": {},
   "outputs": [
    {
     "ename": "NameError",
     "evalue": "name 'np' is not defined",
     "output_type": "error",
     "traceback": [
      "\u001b[1;31m---------------------------------------------------------------------------\u001b[0m",
      "\u001b[1;31mNameError\u001b[0m                                 Traceback (most recent call last)",
      "Cell \u001b[1;32mIn[3], line 5\u001b[0m\n\u001b[0;32m      2\u001b[0m sigma \u001b[38;5;241m=\u001b[39m \u001b[38;5;241m5\u001b[39m \u001b[38;5;241m*\u001b[39m \u001b[38;5;241m25\u001b[39m  \u001b[38;5;66;03m# standard deviation of the weekly cost\u001b[39;00m\n\u001b[0;32m      3\u001b[0m n \u001b[38;5;241m=\u001b[39m \u001b[38;5;241m25\u001b[39m  \u001b[38;5;66;03m# sample size\u001b[39;00m\n\u001b[1;32m----> 5\u001b[0m t \u001b[38;5;241m=\u001b[39m (sample_mean_weekly_cost \u001b[38;5;241m-\u001b[39m theoretical_mean_weekly_cost) \u001b[38;5;241m/\u001b[39m (sigma \u001b[38;5;241m/\u001b[39m np\u001b[38;5;241m.\u001b[39msqrt(n))\n\u001b[0;32m      6\u001b[0m \u001b[38;5;28mprint\u001b[39m(\u001b[38;5;124m\"\u001b[39m\u001b[38;5;124mTest Statistic (t):\u001b[39m\u001b[38;5;124m\"\u001b[39m, t)\n",
      "\u001b[1;31mNameError\u001b[0m: name 'np' is not defined"
     ]
    }
   ],
   "source": [
    "sample_mean_weekly_cost = 3050  # mean weekly cost of the sample\n",
    "sigma = 5 * 25  # standard deviation of the weekly cost\n",
    "n = 25  # sample size\n",
    "\n",
    "t = (sample_mean_weekly_cost - theoretical_mean_weekly_cost) / (sigma / np.sqrt(n))\n",
    "print(\"Test Statistic (t):\", t)"
   ]
  },
  {
   "cell_type": "code",
   "execution_count": 5,
   "id": "44cd4f03-7a0e-4ca2-8ce8-5c0f50c9ecbf",
   "metadata": {},
   "outputs": [
    {
     "name": "stdout",
     "output_type": "stream",
     "text": [
      "Critical Value: 1.6448536269514722\n"
     ]
    }
   ],
   "source": [
    "from scipy.stats import norm\n",
    "\n",
    "critical_value = norm.ppf(0.95)\n",
    "print(\"Critical Value:\", critical_value)\n"
   ]
  },
  {
   "cell_type": "code",
   "execution_count": 7,
   "id": "963ac62b-a943-49d9-9d5d-6a02a8ffd04e",
   "metadata": {},
   "outputs": [
    {
     "name": "stdout",
     "output_type": "stream",
     "text": [
      "Hypotheses:\n",
      "H0: The weekly operating cost model is accurate.\n",
      "H1: The weekly operating cost model is not accurate.\n",
      "\n",
      "Theoretical Mean Weekly Cost: 4000\n",
      "\n",
      "Test Statistic (t): -38.0\n",
      "\n",
      "Critical Value: 1.6448536269514722\n",
      "\n",
      "Fail to reject H0: There is no strong evidence to support the restaurant owners' claim that the weekly operating costs are higher than the model suggests.\n"
     ]
    }
   ],
   "source": [
    "import numpy as np\n",
    "from scipy.stats import norm\n",
    "\n",
    "X = 600  # mean number of units produced in a week\n",
    "theoretical_mean_weekly_cost = 1000 + 5 * X\n",
    "print(\"Hypotheses:\")\n",
    "print(\"H0: The weekly operating cost model is accurate.\")\n",
    "print(\"H1: The weekly operating cost model is not accurate.\")\n",
    "\n",
    "print(\"\\nTheoretical Mean Weekly Cost:\", theoretical_mean_weekly_cost)\n",
    "\n",
    "sample_mean_weekly_cost = 3050  # mean weekly cost of the sample\n",
    "sigma = 5 * 25  # standard deviation of the weekly cost\n",
    "n = 25  # sample size\n",
    "\n",
    "t = (sample_mean_weekly_cost - theoretical_mean_weekly_cost) / (sigma / np.sqrt(n))\n",
    "print(\"\\nTest Statistic (t):\", t)\n",
    "\n",
    "critical_value = norm.ppf(0.95)\n",
    "print(\"\\nCritical Value:\", critical_value)\n",
    "\n",
    "if t > critical_value:\n",
    "    print(\"\\nReject H0: There is strong evidence to support the restaurant owners' claim that the weekly operating costs are higher than the model suggests.\")\n",
    "else:\n",
    "    print(\"\\nFail to reject H0: There is no strong evidence to support the restaurant owners' claim that the weekly operating costs are higher than the model suggests.\")"
   ]
  },
  {
   "cell_type": "code",
   "execution_count": null,
   "id": "ecb498e7-dcfc-49c9-a6bf-554c8803a822",
   "metadata": {},
   "outputs": [],
   "source": []
  }
 ],
 "metadata": {
  "kernelspec": {
   "display_name": "Python 3 (ipykernel)",
   "language": "python",
   "name": "python3"
  },
  "language_info": {
   "codemirror_mode": {
    "name": "ipython",
    "version": 3
   },
   "file_extension": ".py",
   "mimetype": "text/x-python",
   "name": "python",
   "nbconvert_exporter": "python",
   "pygments_lexer": "ipython3",
   "version": "3.12.4"
  }
 },
 "nbformat": 4,
 "nbformat_minor": 5
}
