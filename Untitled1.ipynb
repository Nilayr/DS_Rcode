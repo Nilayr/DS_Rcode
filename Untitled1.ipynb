{
 "cells": [
  {
   "cell_type": "code",
   "execution_count": 1,
   "id": "a80465a0-1daa-4146-a011-ed3497dfb5d1",
   "metadata": {},
   "outputs": [
    {
     "name": "stdout",
     "output_type": "stream",
     "text": [
      "Hypotheses:\n",
      "H0: There is no significant association between the type of smart home device purchased and the customer satisfaction level.\n",
      "H1: There is a significant association between the type of smart home device purchased and the customer satisfaction level.\n",
      "\n",
      "Chi-Square Statistic: 5.638227513227513\n",
      "\n",
      "Critical Value: 15.50731305586545\n",
      "\n",
      "Decision:\n",
      "Fail to reject the null hypothesis. There is no significant association between the type of smart home device purchased and the customer satisfaction level.\n"
     ]
    }
   ],
   "source": [
    "import pandas as pd\n",
    "from scipy.stats import chi2_contingency, chi2\n",
    "\n",
    "# Contingency table\n",
    "data = {'Satisfaction': ['Very Satisfied', 'Satisfied', 'Neutral', 'Unsatisfied', 'Very Unsatisfied'],\n",
    "        'Smart Thermostat': [50, 80, 60, 30, 20],\n",
    "        'Smart Light': [70, 100, 90, 50, 50],\n",
    "        'Total': [120, 180, 150, 80, 70]}\n",
    "\n",
    "df = pd.DataFrame(data).set_index('Satisfaction')\n",
    "\n",
    "# Task 1: State the Hypotheses\n",
    "print(\"Hypotheses:\")\n",
    "print(\"H0: There is no significant association between the type of smart home device purchased and the customer satisfaction level.\")\n",
    "print(\"H1: There is a significant association between the type of smart home device purchased and the customer satisfaction level.\")\n",
    "\n",
    "# Task 2: Compute the Chi-Square Statistic\n",
    "chi2_stat, p, dof, expected = chi2_contingency(df[['Smart Thermostat', 'Smart Light']])\n",
    "print(\"\\nChi-Square Statistic:\", chi2_stat)\n",
    "\n",
    "# Task 3: Determine the Critical Value\n",
    "alpha = 0.05\n",
    "dof = (len(df.index) - 1) * (len(df.columns) - 1)  # degrees of freedom\n",
    "critical_value = chi2.ppf(1 - alpha, dof)  # Use chi2 distribution to calculate critical value\n",
    "print(\"\\nCritical Value:\", critical_value)\n",
    "\n",
    "# Task 4: Make a Decision\n",
    "print(\"\\nDecision:\")\n",
    "if chi2_stat > critical_value:\n",
    "    print(\"Reject the null hypothesis. There is a significant association between the type of smart home device purchased and the customer satisfaction level.\")\n",
    "else:\n",
    "    print(\"Fail to reject the null hypothesis. There is no significant association between the type of smart home device purchased and the customer satisfaction level.\")"
   ]
  },
  {
   "cell_type": "code",
   "execution_count": null,
   "id": "09f8a088-bbd0-443e-87f9-9b6fec6c3232",
   "metadata": {},
   "outputs": [],
   "source": []
  }
 ],
 "metadata": {
  "kernelspec": {
   "display_name": "Python 3 (ipykernel)",
   "language": "python",
   "name": "python3"
  },
  "language_info": {
   "codemirror_mode": {
    "name": "ipython",
    "version": 3
   },
   "file_extension": ".py",
   "mimetype": "text/x-python",
   "name": "python",
   "nbconvert_exporter": "python",
   "pygments_lexer": "ipython3",
   "version": "3.12.4"
  }
 },
 "nbformat": 4,
 "nbformat_minor": 5
}
